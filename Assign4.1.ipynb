{
 "cells": [
  {
   "cell_type": "code",
   "execution_count": 3,
   "metadata": {},
   "outputs": [
    {
     "name": "stdout",
     "output_type": "stream",
     "text": [
      "['Anonymous', 'Spring', 'did i say']\n"
     ]
    }
   ],
   "source": [
    "def filterlongwords(wordlist,number):\n",
    " \n",
    "    Words = []\n",
    " \n",
    "    for i in range(len(wordlist)):\n",
    "        if len(wordlist[i]) > number:\n",
    "            Words.append(wordlist[i])\n",
    " \n",
    "    return Words\n",
    " \n",
    "Words = ['Anonymous','Spring','Four','did i say','why']\n",
    "inputWordLength = 5\n",
    " \n",
    "print (str(filterlongwords(Words,inputWordLength)))"
   ]
  },
  {
   "cell_type": "code",
   "execution_count": 9,
   "metadata": {},
   "outputs": [
    {
     "name": "stdout",
     "output_type": "stream",
     "text": [
      "['Anonymous', 'Spring', 'Four', 'did i say', 'why']\n"
     ]
    }
   ],
   "source": [
    "def filterlongwords(wordlist,number):\n",
    "    return [word for word in wordlist if len(word) > number]\n",
    " \n",
    "    Words = []\n",
    " \n",
    "    Words = ['Anonymous','Spring','Four','did i say','why']\n",
    "inputWordLength = 2\n",
    " \n",
    "print (str(filterlongwords(Words,inputWordLength)))"
   ]
  }
 ],
 "metadata": {
  "kernelspec": {
   "display_name": "Python 3",
   "language": "python",
   "name": "python3"
  },
  "language_info": {
   "codemirror_mode": {
    "name": "ipython",
    "version": 3
   },
   "file_extension": ".py",
   "mimetype": "text/x-python",
   "name": "python",
   "nbconvert_exporter": "python",
   "pygments_lexer": "ipython3",
   "version": "3.6.3"
  }
 },
 "nbformat": 4,
 "nbformat_minor": 2
}
