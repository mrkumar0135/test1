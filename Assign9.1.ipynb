{
 "cells": [
  {
   "cell_type": "code",
   "execution_count": 2,
   "metadata": {},
   "outputs": [
    {
     "name": "stdout",
     "output_type": "stream",
     "text": [
      "[1, 2, 0, 1, 2, 3, 4, 0, 1, 2]\n"
     ]
    }
   ],
   "source": [
    "import pandas as pd\n",
    "df = pd.DataFrame({'Y':[7,2,0,3,4,2,5,0,3,4]})\n",
    "idx = df.index[df['Y']].tolist()\n",
    "to_zero = [(idx[i::-1]+[0]).index(0)for i in range(len(idx))]\n",
    "print(to_zero)"
   ]
  },
  {
   "cell_type": "code",
   "execution_count": 18,
   "metadata": {},
   "outputs": [
    {
     "name": "stdout",
     "output_type": "stream",
     "text": [
      "Series of random numbers with date range as index :\n",
      "\n",
      " 2015-01-01    0.052901\n",
      "2015-01-02    0.544438\n",
      "2015-01-05    0.750668\n",
      "2015-01-06    0.347725\n",
      "2015-01-07    0.434266\n",
      "2015-01-08    0.782305\n",
      "2015-01-09    0.379215\n",
      "2015-01-12    0.607599\n",
      "2015-01-13    0.988233\n",
      "2015-01-14    0.423466\n",
      "2015-01-15    0.376414\n",
      "2015-01-16    0.430133\n",
      "2015-01-19    0.552850\n",
      "2015-01-20    0.408903\n",
      "2015-01-21    0.133438\n",
      "2015-01-22    0.405590\n",
      "2015-01-23    0.035206\n",
      "2015-01-26    0.495744\n",
      "2015-01-27    0.086579\n",
      "2015-01-28    0.973643\n",
      "2015-01-29    0.790447\n",
      "2015-01-30    0.466524\n",
      "2015-02-02    0.525983\n",
      "2015-02-03    0.382848\n",
      "2015-02-04    0.470346\n",
      "2015-02-05    0.262027\n",
      "2015-02-06    0.127844\n",
      "2015-02-09    0.841875\n",
      "2015-02-10    0.647780\n",
      "2015-02-11    0.570331\n",
      "                ...   \n",
      "2015-11-20    0.675047\n",
      "2015-11-23    0.619748\n",
      "2015-11-24    0.822425\n",
      "2015-11-25    0.943290\n",
      "2015-11-26    0.162774\n",
      "2015-11-27    0.563527\n",
      "2015-11-30    0.376493\n",
      "2015-12-01    0.057863\n",
      "2015-12-02    0.695004\n",
      "2015-12-03    0.400676\n",
      "2015-12-04    0.559639\n",
      "2015-12-07    0.287161\n",
      "2015-12-08    0.700627\n",
      "2015-12-09    0.364547\n",
      "2015-12-10    0.859153\n",
      "2015-12-11    0.629637\n",
      "2015-12-14    0.522148\n",
      "2015-12-15    0.932705\n",
      "2015-12-16    0.938635\n",
      "2015-12-17    0.961114\n",
      "2015-12-18    0.600562\n",
      "2015-12-21    0.003437\n",
      "2015-12-22    0.114483\n",
      "2015-12-23    0.004239\n",
      "2015-12-24    0.498016\n",
      "2015-12-25    0.743003\n",
      "2015-12-28    0.235225\n",
      "2015-12-29    0.811773\n",
      "2015-12-30    0.396776\n",
      "2015-12-31    0.077026\n",
      "Freq: B, Length: 261, dtype: float64 \n",
      "\n"
     ]
    }
   ],
   "source": [
    "import numpy as np\n",
    "date_range_year2015_bd = pd.date_range('1/1/2015', '12/31/2015', freq ='B')\n",
    "series_random_index = pd.Series(np.random.random(date_range_year2015_bd.size),index =date_range_year2015_bd)\n",
    "print(\"Series of random numbers with date range as index :\\n\\n\",series_random_index,\"\\n\")"
   ]
  },
  {
   "cell_type": "code",
   "execution_count": 20,
   "metadata": {},
   "outputs": [
    {
     "name": "stdout",
     "output_type": "stream",
     "text": [
      "Sum of the values in the series for every Wednesday: 25.604873352138604 \n",
      "\n"
     ]
    }
   ],
   "source": [
    "import numpy as np\n",
    "import pandas as pd\n",
    "series_random_dtrng_index = pd.Series(np.random.randn(date_range_year2015_bd.size), index=date_range_year2015_bd)\n",
    "sum_wed = series_random_index.loc[series_random_dtrng_index.index.weekday==2].sum()\n",
    "print(\"Sum of the values in the series for every Wednesday:\", sum_wed, \"\\n\")\n"
   ]
  },
  {
   "cell_type": "code",
   "execution_count": 22,
   "metadata": {},
   "outputs": [
    {
     "name": "stdout",
     "output_type": "stream",
     "text": [
      "Average for each calendar month:\n",
      "\n",
      " 2015-01-31    0.151079\n",
      "2015-02-28   -0.202484\n",
      "2015-03-31   -0.055295\n",
      "2015-04-30    0.151388\n",
      "2015-05-31    0.157832\n",
      "2015-06-30    0.006991\n",
      "2015-07-31   -0.146322\n",
      "2015-08-31    0.219452\n",
      "2015-09-30    0.082815\n",
      "2015-10-31   -0.085811\n",
      "2015-11-30   -0.203963\n",
      "2015-12-31   -0.027240\n",
      "Freq: M, dtype: float64 \n",
      "\n"
     ]
    }
   ],
   "source": [
    "import numpy as np\n",
    "series_random_dtrng_index = pd.Series(np.random.randn(date_range_year2015_bd.size), index=date_range_year2015_bd)\n",
    "series_avg_each_month = series_random_dtrng_index.resample('M').mean()\n",
    "print(\"Average for each calendar month:\\n\\n\", series_avg_each_month, \"\\n\")"
   ]
  },
  {
   "cell_type": "code",
   "execution_count": 28,
   "metadata": {},
   "outputs": [
    {
     "name": "stdout",
     "output_type": "stream",
     "text": [
      "4 consecutive months where the highest value occurred 2015-02-16, 2015-08-12 and 2015-11-11\n"
     ]
    }
   ],
   "source": [
    "import numpy as np\n",
    "series_random_dtrng_index = pd.Series(np.random.randn(date_range_year2015_bd.size), index=date_range_year2015_bd)\n",
    "series_avg_each_month = series_random_dtrng_index.resample('M').mean()\n",
    "max_idx = series_random_dtrng_index.resample('4M', closed='left').agg({np.argmax})\n",
    "print(\"4 consecutive months where the highest value occurred {:%Y-%m-%d}, {:%Y-%m-%d} and {:%Y-%m-%d}\".format(max_idx.argmax[0], max_idx.argmax[1], max_idx.argmax[2]))\n"
   ]
  },
  {
   "cell_type": "code",
   "execution_count": null,
   "metadata": {
    "collapsed": true
   },
   "outputs": [],
   "source": []
  }
 ],
 "metadata": {
  "kernelspec": {
   "display_name": "Python 3",
   "language": "python",
   "name": "python3"
  },
  "language_info": {
   "codemirror_mode": {
    "name": "ipython",
    "version": 3
   },
   "file_extension": ".py",
   "mimetype": "text/x-python",
   "name": "python",
   "nbconvert_exporter": "python",
   "pygments_lexer": "ipython3",
   "version": "3.6.3"
  }
 },
 "nbformat": 4,
 "nbformat_minor": 2
}
