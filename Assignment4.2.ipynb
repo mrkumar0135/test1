{
 "cells": [
  {
   "cell_type": "code",
   "execution_count": 4,
   "metadata": {},
   "outputs": [
    {
     "name": "stdout",
     "output_type": "stream",
     "text": [
      "[2, 3, 4]\n"
     ]
    }
   ],
   "source": [
    "def wordlength(wordlist):\n",
    "    list_len = list()\n",
    "    for word in wordlist:\n",
    "        list_len.append(len(word))\n",
    "    return list_len\n",
    "print(wordlength(['ab','cde','erty']))"
   ]
  },
  {
   "cell_type": "code",
   "execution_count": 8,
   "metadata": {},
   "outputs": [
    {
     "name": "stdout",
     "output_type": "stream",
     "text": [
      " t is a vowel:  False\n",
      " i is a vowel:  True\n",
      " w is a vowel:  False\n",
      " u is a vowel:  True\n"
     ]
    }
   ],
   "source": [
    "def findvowel(f):\n",
    "    vowels = ['a','e','i','o','u']\n",
    "    if(f in vowels):\n",
    "        return True\n",
    "    else:\n",
    "        return False\n",
    "print(\" t is a vowel: \", findvowel('t'))\n",
    "print(\" i is a vowel: \", findvowel('i'))\n",
    "print(\" w is a vowel: \", findvowel('w'))\n",
    "print(\" u is a vowel: \", findvowel('u'))"
   ]
  }
 ],
 "metadata": {
  "kernelspec": {
   "display_name": "Python 3",
   "language": "python",
   "name": "python3"
  },
  "language_info": {
   "codemirror_mode": {
    "name": "ipython",
    "version": 3
   },
   "file_extension": ".py",
   "mimetype": "text/x-python",
   "name": "python",
   "nbconvert_exporter": "python",
   "pygments_lexer": "ipython3",
   "version": "3.6.3"
  }
 },
 "nbformat": 4,
 "nbformat_minor": 2
}
