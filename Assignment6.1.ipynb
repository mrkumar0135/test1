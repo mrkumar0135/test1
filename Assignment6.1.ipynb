{
 "cells": [
  {
   "cell_type": "code",
   "execution_count": 2,
   "metadata": {},
   "outputs": [
    {
     "name": "stdout",
     "output_type": "stream",
     "text": [
      "[[    32     16      8      4      2      1]\n",
      " [  1024    256     64     16      4      1]\n",
      " [ 32768   4096    512     64      8      1]\n",
      " [100000  10000   1000    100     10      1]\n",
      " [248832  20736   1728    144     12      1]\n",
      " [537824  38416   2744    196     14      1]]\n"
     ]
    }
   ],
   "source": [
    "import numpy as np\n",
    "startarray = np.array([2,4,8,10,12,14])\n",
    "out = np.vander(startarray, increasing = False)\n",
    "print(out)"
   ]
  }
 ],
 "metadata": {
  "kernelspec": {
   "display_name": "Python 3",
   "language": "python",
   "name": "python3"
  },
  "language_info": {
   "codemirror_mode": {
    "name": "ipython",
    "version": 3
   },
   "file_extension": ".py",
   "mimetype": "text/x-python",
   "name": "python",
   "nbconvert_exporter": "python",
   "pygments_lexer": "ipython3",
   "version": "3.6.3"
  }
 },
 "nbformat": 4,
 "nbformat_minor": 2
}
